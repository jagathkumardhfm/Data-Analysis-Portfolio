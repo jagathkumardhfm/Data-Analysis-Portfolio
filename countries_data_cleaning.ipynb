{
  "metadata": {
    "language_info": {
      "codemirror_mode": {
        "name": "python",
        "version": 3
      },
      "file_extension": ".py",
      "mimetype": "text/x-python",
      "name": "python",
      "nbconvert_exporter": "python",
      "pygments_lexer": "ipython3",
      "version": "3.8"
    },
    "kernelspec": {
      "name": "python",
      "display_name": "Python (Pyodide)",
      "language": "python"
    }
  },
  "nbformat_minor": 4,
  "nbformat": 4,
  "cells": [
    {
      "cell_type": "markdown",
      "source": "Importing and loading dataframe ",
      "metadata": {
        "tags": []
      }
    },
    {
      "cell_type": "code",
      "source": "# Importing numpy and pandas\nimport numpy as np\nimport pandas as pd",
      "metadata": {
        "trusted": true
      },
      "execution_count": 123,
      "outputs": []
    },
    {
      "cell_type": "code",
      "source": "# Importing the csv file with pandas library\ncs = pd.read_csv('countries of the world1.csv')",
      "metadata": {
        "trusted": true
      },
      "execution_count": 124,
      "outputs": []
    },
    {
      "cell_type": "code",
      "source": "# Inspecting the primary view of dataframe\ncs.head(3)",
      "metadata": {
        "tags": [],
        "trusted": true
      },
      "execution_count": 125,
      "outputs": [
        {
          "execution_count": 125,
          "output_type": "execute_result",
          "data": {
            "text/plain": "        Country                               Region  Population  \\\n0  Afghanistan         ASIA (EX. NEAR EAST)             31056997   \n1      Albania   EASTERN EUROPE                          3581655   \n2      Algeria   NORTHERN AFRICA                        32930091   \n\n   Area (sq. mi.) Pop. Density (per sq. mi.) Coastline (coast/area ratio)  \\\n0          647500                       48,0                         0,00   \n1           28748                      124,6                         1,26   \n2         2381740                       13,8                         0,04   \n\n  Net migration Infant mortality (per 1000 births)  GDP ($ per capita)  \\\n0         23,06                             163,07               700.0   \n1         -4,93                              21,52              4500.0   \n2         -0,39                                 31              6000.0   \n\n  Literacy (%) Phones (per 1000) Arable (%) Crops (%) Other (%) Birthrate  \\\n0         36,0               3,2      12,13      0,22     87,65      46,6   \n1         86,5              71,2      21,09      4,42     74,49     15,11   \n2         70,0              78,1       3,22      0,25     96,53     17,14   \n\n  Deathrate Agriculture Industry Service  \n0     20,34        0,38     0,24    0,38  \n1      5,22       0,232    0,188   0,579  \n2      4,61       0,101      0,6   0,298  ",
            "text/html": "<div>\n<style scoped>\n    .dataframe tbody tr th:only-of-type {\n        vertical-align: middle;\n    }\n\n    .dataframe tbody tr th {\n        vertical-align: top;\n    }\n\n    .dataframe thead th {\n        text-align: right;\n    }\n</style>\n<table border=\"1\" class=\"dataframe\">\n  <thead>\n    <tr style=\"text-align: right;\">\n      <th></th>\n      <th>Country</th>\n      <th>Region</th>\n      <th>Population</th>\n      <th>Area (sq. mi.)</th>\n      <th>Pop. Density (per sq. mi.)</th>\n      <th>Coastline (coast/area ratio)</th>\n      <th>Net migration</th>\n      <th>Infant mortality (per 1000 births)</th>\n      <th>GDP ($ per capita)</th>\n      <th>Literacy (%)</th>\n      <th>Phones (per 1000)</th>\n      <th>Arable (%)</th>\n      <th>Crops (%)</th>\n      <th>Other (%)</th>\n      <th>Birthrate</th>\n      <th>Deathrate</th>\n      <th>Agriculture</th>\n      <th>Industry</th>\n      <th>Service</th>\n    </tr>\n  </thead>\n  <tbody>\n    <tr>\n      <th>0</th>\n      <td>Afghanistan</td>\n      <td>ASIA (EX. NEAR EAST)</td>\n      <td>31056997</td>\n      <td>647500</td>\n      <td>48,0</td>\n      <td>0,00</td>\n      <td>23,06</td>\n      <td>163,07</td>\n      <td>700.0</td>\n      <td>36,0</td>\n      <td>3,2</td>\n      <td>12,13</td>\n      <td>0,22</td>\n      <td>87,65</td>\n      <td>46,6</td>\n      <td>20,34</td>\n      <td>0,38</td>\n      <td>0,24</td>\n      <td>0,38</td>\n    </tr>\n    <tr>\n      <th>1</th>\n      <td>Albania</td>\n      <td>EASTERN EUROPE</td>\n      <td>3581655</td>\n      <td>28748</td>\n      <td>124,6</td>\n      <td>1,26</td>\n      <td>-4,93</td>\n      <td>21,52</td>\n      <td>4500.0</td>\n      <td>86,5</td>\n      <td>71,2</td>\n      <td>21,09</td>\n      <td>4,42</td>\n      <td>74,49</td>\n      <td>15,11</td>\n      <td>5,22</td>\n      <td>0,232</td>\n      <td>0,188</td>\n      <td>0,579</td>\n    </tr>\n    <tr>\n      <th>2</th>\n      <td>Algeria</td>\n      <td>NORTHERN AFRICA</td>\n      <td>32930091</td>\n      <td>2381740</td>\n      <td>13,8</td>\n      <td>0,04</td>\n      <td>-0,39</td>\n      <td>31</td>\n      <td>6000.0</td>\n      <td>70,0</td>\n      <td>78,1</td>\n      <td>3,22</td>\n      <td>0,25</td>\n      <td>96,53</td>\n      <td>17,14</td>\n      <td>4,61</td>\n      <td>0,101</td>\n      <td>0,6</td>\n      <td>0,298</td>\n    </tr>\n  </tbody>\n</table>\n</div>"
          },
          "metadata": {}
        }
      ]
    },
    {
      "cell_type": "markdown",
      "source": "Fixing and Editing the colummn names",
      "metadata": {}
    },
    {
      "cell_type": "code",
      "source": "# Removing spaces from column names and replacing with \"_\"\nnewcolumn = [i.replace(\" \",\"_\") for i in cs.columns]\ncs.columns = newcolumn \ncs.columns",
      "metadata": {
        "tags": [],
        "trusted": true
      },
      "execution_count": 126,
      "outputs": [
        {
          "execution_count": 126,
          "output_type": "execute_result",
          "data": {
            "text/plain": "Index(['Country', 'Region', 'Population', 'Area_(sq._mi.)',\n       'Pop._Density_(per_sq._mi.)', 'Coastline_(coast/area_ratio)',\n       'Net_migration', 'Infant_mortality_(per_1000_births)',\n       'GDP_($_per_capita)', 'Literacy_(%)', 'Phones_(per_1000)', 'Arable_(%)',\n       'Crops_(%)', 'Other_(%)', 'Birthrate', 'Deathrate', 'Agriculture',\n       'Industry', 'Service'],\n      dtype='object')"
          },
          "metadata": {}
        }
      ]
    },
    {
      "cell_type": "code",
      "source": "# Renaming the coulmn names\ncs.rename(columns = {'Area_(sq._mi.)':'Area',\n                     'Pop._Density_(per_sq._mi.)':'Population_density',\n                     'Coastline_(coast/area_ratio)':'Coastline_ratio',\n                     'Infant_mortality_(per_1000_births)':'Infant_mortality_rate',\n                     'GDP_($_per_capita)':'GDP',\n                     'Literacy_(%)':'Literacy_rate',\n                     'Agriculture':'Agriculture_(%)',\n                     'Industry':'Industry_(%)',\n                     'Service':'Service_(%)'\n                    } , inplace = True)",
      "metadata": {
        "trusted": true
      },
      "execution_count": 128,
      "outputs": []
    },
    {
      "cell_type": "code",
      "source": "# Datatypes of values of each column before changing\ncs.dtypes",
      "metadata": {
        "tags": [],
        "trusted": true
      },
      "execution_count": 129,
      "outputs": [
        {
          "execution_count": 129,
          "output_type": "execute_result",
          "data": {
            "text/plain": "Country                   object\nRegion                    object\nPopulation                 int64\nArea                       int64\nPopulation_density        object\nCoastline_ratio           object\nNet_migration             object\nInfant_mortality_rate     object\nGDP                      float64\nLiteracy_rate             object\nPhones_(per_1000)         object\nArable_(%)                object\nCrops_(%)                 object\nOther_(%)                 object\nBirthrate                 object\nDeathrate                 object\nAgriculture_(%)           object\nIndustry_(%)              object\nService_(%)               object\ndtype: object"
          },
          "metadata": {}
        }
      ]
    },
    {
      "cell_type": "code",
      "source": "cs.Region\n# these values contain the leading and trailing spaces those need to be removed",
      "metadata": {
        "tags": [],
        "trusted": true
      },
      "execution_count": 130,
      "outputs": [
        {
          "execution_count": 130,
          "output_type": "execute_result",
          "data": {
            "text/plain": "0            ASIA (EX. NEAR EAST)         \n1      EASTERN EUROPE                     \n2      NORTHERN AFRICA                    \n3      OCEANIA                            \n4      WESTERN EUROPE                     \n                      ...                 \n222    NEAR EAST                          \n223    NORTHERN AFRICA                    \n224    NEAR EAST                          \n225    SUB-SAHARAN AFRICA                 \n226    SUB-SAHARAN AFRICA                 \nName: Region, Length: 227, dtype: object"
          },
          "metadata": {}
        }
      ]
    },
    {
      "cell_type": "code",
      "source": "# Removing the leading and trailing spaces from all the values in the \"Region\" column\ncs['Region'] = cs['Region'].str.strip(' ')\ncs['Region'].unique()",
      "metadata": {
        "tags": [],
        "trusted": true
      },
      "execution_count": 131,
      "outputs": [
        {
          "execution_count": 131,
          "output_type": "execute_result",
          "data": {
            "text/plain": "array(['ASIA (EX. NEAR EAST)', 'EASTERN EUROPE', 'NORTHERN AFRICA',\n       'OCEANIA', 'WESTERN EUROPE', 'SUB-SAHARAN AFRICA',\n       'LATIN AMER. & CARIB', 'C.W. OF IND. STATES', 'NEAR EAST',\n       'NORTHERN AMERICA', 'BALTICS'], dtype=object)"
          },
          "metadata": {}
        }
      ]
    },
    {
      "cell_type": "code",
      "source": "# Removing the leading and trailing spaces from all the values in the \"Country\" column\ncs['Country'] = cs['Country'].str.strip(' ')",
      "metadata": {
        "tags": [],
        "trusted": true
      },
      "execution_count": 132,
      "outputs": []
    },
    {
      "cell_type": "code",
      "source": "# Capitalizing the first letter of all the values in \"Country\" column\ncs['Country'] = cs['Country'].str.capitalize()",
      "metadata": {
        "trusted": true
      },
      "execution_count": 133,
      "outputs": []
    },
    {
      "cell_type": "code",
      "source": "# Repacing the old \"Region\" values with new values\ncs.Region = cs.Region.replace('ASIA (EX. NEAR EAST)','Asia')\ncs.Region = cs.Region.replace('LATIN AMER. & CARIB','South America')\ncs.Region = cs.Region.replace('C.W. OF IND. STATES','Asia')\ncs.Region = cs.Region.replace('NEAR EAST','Asia')\ncs.Region = cs.Region.replace('NORTHERN AMERICA','North America')\ncs.Region = cs.Region.replace('BALTICS','Europe')\ncs.Region = cs.Region.replace('EASTERN EUROPE','Europe')\ncs.Region = cs.Region.replace('NORTHERN AFRICA','Africa')\ncs.Region = cs.Region.replace('OCEANIA','Australia')\ncs.Region = cs.Region.replace('WESTERN EUROPE','Europe')\ncs.Region = cs.Region.replace('SUB-SAHARAN AFRICA','Africa')\ncs.Region.unique()\n",
      "metadata": {
        "tags": [],
        "trusted": true
      },
      "execution_count": 134,
      "outputs": [
        {
          "execution_count": 134,
          "output_type": "execute_result",
          "data": {
            "text/plain": "array(['Asia', 'Europe', 'Africa', 'Australia', 'South America',\n       'North America'], dtype=object)"
          },
          "metadata": {}
        }
      ]
    },
    {
      "cell_type": "code",
      "source": "# Replacing the \" , \"  with \" . \" for all the values in respective columns\ncs['Coastline_ratio']=cs['Coastline_ratio'].str.replace(\",\",\".\")\ncs['Population_density']=cs['Population_density'].str.replace(\",\",\".\")\ncs['Net_migration']=cs['Net_migration'].str.replace(\",\",\".\")\ncs['Infant_mortality_rate']=cs['Infant_mortality_rate'].str.replace(\",\",\".\")\ncs['Literacy_rate']=cs['Literacy_rate'].str.replace(\",\",\".\")\ncs['Phones_(per_1000)']=cs['Phones_(per_1000)'].str.replace(\",\",\".\")\ncs['Arable_(%)']=cs['Arable_(%)'].str.replace(\",\",\".\")\ncs['Crops_(%)']=cs['Crops_(%)'].str.replace(\",\",\".\")\ncs['Other_(%)']=cs['Other_(%)'].str.replace(\",\",\".\")\ncs['Birthrate']=cs['Birthrate'].str.replace(\",\",\".\")\ncs['Deathrate']=cs['Deathrate'].str.replace(\",\",\".\")\ncs['Agriculture_(%)']=cs['Agriculture_(%)'].str.replace(\",\",\".\")\ncs['Industry_(%)']=cs['Industry_(%)'].str.replace(\",\",\".\")\ncs['Service_(%)']=cs['Service_(%)'].str.replace(\",\",\".\")",
      "metadata": {
        "trusted": true
      },
      "execution_count": 135,
      "outputs": []
    },
    {
      "cell_type": "markdown",
      "source": "Hanlding the NaN and Non_finate values in Dataframe",
      "metadata": {}
    },
    {
      "cell_type": "code",
      "source": "# Checking if infinite values exists\nds = cs.isin([np.inf, -np.inf])\nds.head(3)",
      "metadata": {
        "tags": [],
        "trusted": true
      },
      "execution_count": 136,
      "outputs": [
        {
          "execution_count": 136,
          "output_type": "execute_result",
          "data": {
            "text/plain": "   Country  Region  Population   Area  Population_density  Coastline_ratio  \\\n0    False   False       False  False               False            False   \n1    False   False       False  False               False            False   \n2    False   False       False  False               False            False   \n\n   Net_migration  Infant_mortality_rate    GDP  Literacy_rate  \\\n0          False                  False  False          False   \n1          False                  False  False          False   \n2          False                  False  False          False   \n\n   Phones_(per_1000)  Arable_(%)  Crops_(%)  Other_(%)  Birthrate  Deathrate  \\\n0              False       False      False      False      False      False   \n1              False       False      False      False      False      False   \n2              False       False      False      False      False      False   \n\n   Agriculture_(%)  Industry_(%)  Service_(%)  \n0            False         False        False  \n1            False         False        False  \n2            False         False        False  ",
            "text/html": "<div>\n<style scoped>\n    .dataframe tbody tr th:only-of-type {\n        vertical-align: middle;\n    }\n\n    .dataframe tbody tr th {\n        vertical-align: top;\n    }\n\n    .dataframe thead th {\n        text-align: right;\n    }\n</style>\n<table border=\"1\" class=\"dataframe\">\n  <thead>\n    <tr style=\"text-align: right;\">\n      <th></th>\n      <th>Country</th>\n      <th>Region</th>\n      <th>Population</th>\n      <th>Area</th>\n      <th>Population_density</th>\n      <th>Coastline_ratio</th>\n      <th>Net_migration</th>\n      <th>Infant_mortality_rate</th>\n      <th>GDP</th>\n      <th>Literacy_rate</th>\n      <th>Phones_(per_1000)</th>\n      <th>Arable_(%)</th>\n      <th>Crops_(%)</th>\n      <th>Other_(%)</th>\n      <th>Birthrate</th>\n      <th>Deathrate</th>\n      <th>Agriculture_(%)</th>\n      <th>Industry_(%)</th>\n      <th>Service_(%)</th>\n    </tr>\n  </thead>\n  <tbody>\n    <tr>\n      <th>0</th>\n      <td>False</td>\n      <td>False</td>\n      <td>False</td>\n      <td>False</td>\n      <td>False</td>\n      <td>False</td>\n      <td>False</td>\n      <td>False</td>\n      <td>False</td>\n      <td>False</td>\n      <td>False</td>\n      <td>False</td>\n      <td>False</td>\n      <td>False</td>\n      <td>False</td>\n      <td>False</td>\n      <td>False</td>\n      <td>False</td>\n      <td>False</td>\n    </tr>\n    <tr>\n      <th>1</th>\n      <td>False</td>\n      <td>False</td>\n      <td>False</td>\n      <td>False</td>\n      <td>False</td>\n      <td>False</td>\n      <td>False</td>\n      <td>False</td>\n      <td>False</td>\n      <td>False</td>\n      <td>False</td>\n      <td>False</td>\n      <td>False</td>\n      <td>False</td>\n      <td>False</td>\n      <td>False</td>\n      <td>False</td>\n      <td>False</td>\n      <td>False</td>\n    </tr>\n    <tr>\n      <th>2</th>\n      <td>False</td>\n      <td>False</td>\n      <td>False</td>\n      <td>False</td>\n      <td>False</td>\n      <td>False</td>\n      <td>False</td>\n      <td>False</td>\n      <td>False</td>\n      <td>False</td>\n      <td>False</td>\n      <td>False</td>\n      <td>False</td>\n      <td>False</td>\n      <td>False</td>\n      <td>False</td>\n      <td>False</td>\n      <td>False</td>\n      <td>False</td>\n    </tr>\n  </tbody>\n</table>\n</div>"
          },
          "metadata": {}
        }
      ]
    },
    {
      "cell_type": "code",
      "source": "# Finding the NaN values in the dataframe\nnan_df = pd.DataFrame(cs.isna())\nfor i in nan_df:\n    print(nan_df[i].value_counts(normalize= False))",
      "metadata": {
        "tags": [],
        "trusted": true
      },
      "execution_count": 137,
      "outputs": [
        {
          "name": "stdout",
          "text": "False    227\nName: Country, dtype: int64\nFalse    227\nName: Region, dtype: int64\nFalse    227\nName: Population, dtype: int64\nFalse    227\nName: Area, dtype: int64\nFalse    227\nName: Population_density, dtype: int64\nFalse    227\nName: Coastline_ratio, dtype: int64\nFalse    224\nTrue       3\nName: Net_migration, dtype: int64\nFalse    224\nTrue       3\nName: Infant_mortality_rate, dtype: int64\nFalse    226\nTrue       1\nName: GDP, dtype: int64\nFalse    209\nTrue      18\nName: Literacy_rate, dtype: int64\nFalse    223\nTrue       4\nName: Phones_(per_1000), dtype: int64\nFalse    225\nTrue       2\nName: Arable_(%), dtype: int64\nFalse    225\nTrue       2\nName: Crops_(%), dtype: int64\nFalse    225\nTrue       2\nName: Other_(%), dtype: int64\nFalse    224\nTrue       3\nName: Birthrate, dtype: int64\nFalse    223\nTrue       4\nName: Deathrate, dtype: int64\nFalse    212\nTrue      15\nName: Agriculture_(%), dtype: int64\nFalse    211\nTrue      16\nName: Industry_(%), dtype: int64\nFalse    212\nTrue      15\nName: Service_(%), dtype: int64\n",
          "output_type": "stream"
        }
      ]
    },
    {
      "cell_type": "code",
      "source": "# Dropping the rows which contain any number of NaN values\ncs.dropna(axis =0 , how = \"any\",inplace = True )",
      "metadata": {
        "trusted": true
      },
      "execution_count": 138,
      "outputs": []
    },
    {
      "cell_type": "markdown",
      "source": "Formatting the datatypes of all the columns ",
      "metadata": {}
    },
    {
      "cell_type": "code",
      "source": "# Changing the datatypes of all the columns\ncs = cs.astype({\"Country\":object,\n    \"Region\":object,\n    \"Population\":int,\n    \"Area\":int,\n    \"Population_density\":float,\n    \"Coastline_ratio\":float,\n    \"Net_migration\":float,\n    \"Infant_mortality_rate\":float,\n    \"GDP\":int,\n    \"Literacy_rate\":float,\n    \"Phones_(per_1000)\":float,\n    \"Arable_(%)\":float,\n    \"Crops_(%)\":float,\n    \"Other_(%)\":float,\n    \"Birthrate\":float,\n    \"Deathrate\":float,\n    \"Agriculture_(%)\":float,\n    \"Industry_(%)\":float,\n    \"Service_(%)\":float})",
      "metadata": {
        "tags": [],
        "trusted": true
      },
      "execution_count": 139,
      "outputs": []
    },
    {
      "cell_type": "code",
      "source": "# Changed datatypes of all the columns in the dataframe\ncs.dtypes",
      "metadata": {
        "trusted": true
      },
      "execution_count": 140,
      "outputs": [
        {
          "execution_count": 140,
          "output_type": "execute_result",
          "data": {
            "text/plain": "Country                   object\nRegion                    object\nPopulation                 int32\nArea                       int32\nPopulation_density       float64\nCoastline_ratio          float64\nNet_migration            float64\nInfant_mortality_rate    float64\nGDP                        int32\nLiteracy_rate            float64\nPhones_(per_1000)        float64\nArable_(%)               float64\nCrops_(%)                float64\nOther_(%)                float64\nBirthrate                float64\nDeathrate                float64\nAgriculture_(%)          float64\nIndustry_(%)             float64\nService_(%)              float64\ndtype: object"
          },
          "metadata": {}
        }
      ]
    },
    {
      "cell_type": "markdown",
      "source": "Handling with the duplicates",
      "metadata": {}
    },
    {
      "cell_type": "code",
      "source": "# Finding if there are any duplicate rows in the dataframe\ncs.duplicated().unique()",
      "metadata": {
        "tags": [],
        "trusted": true
      },
      "execution_count": 144,
      "outputs": [
        {
          "execution_count": 144,
          "output_type": "execute_result",
          "data": {
            "text/plain": "array([False])"
          },
          "metadata": {}
        }
      ]
    },
    {
      "cell_type": "code",
      "source": "# Finding if there are any duplicate values in the \"Country\" column\ncs.duplicated(subset = 'Country').unique()",
      "metadata": {
        "tags": [],
        "trusted": true
      },
      "execution_count": 145,
      "outputs": [
        {
          "execution_count": 145,
          "output_type": "execute_result",
          "data": {
            "text/plain": "array([False])"
          },
          "metadata": {}
        }
      ]
    }
  ]
}